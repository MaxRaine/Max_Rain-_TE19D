{
 "metadata": {
  "language_info": {
   "codemirror_mode": {
    "name": "ipython",
    "version": 3
   },
   "file_extension": ".py",
   "mimetype": "text/x-python",
   "name": "python",
   "nbconvert_exporter": "python",
   "pygments_lexer": "ipython3",
   "version": "3.8.3-final"
  },
  "orig_nbformat": 2,
  "kernelspec": {
   "name": "Python 3.8.3 64-bit ('max.raine': virtualenv)",
   "display_name": "Python 3.8.3 64-bit ('max.raine': virtualenv)",
   "metadata": {
    "interpreter": {
     "hash": "1d0e996aa7b0fc55f8a62b500f9d330b41380a9dab32a8658ab7770b8de1a428"
    }
   }
  }
 },
 "nbformat": 4,
 "nbformat_minor": 2,
 "cells": [
  {
   "cell_type": "code",
   "execution_count": 1,
   "metadata": {
    "tags": []
   },
   "outputs": [
    {
     "output_type": "stream",
     "name": "stdout",
     "text": "hej\n"
    }
   ],
   "source": [
    "print(\"hej\")\n"
   ]
  },
  {
   "cell_type": "code",
   "execution_count": 2,
   "metadata": {
    "tags": []
   },
   "outputs": [
    {
     "output_type": "stream",
     "name": "stdout",
     "text": "hej Max\n"
    }
   ],
   "source": [
    "name = \"Max\"\n",
    "\n",
    "print(f\"hej {name}\")"
   ]
  },
  {
   "cell_type": "code",
   "execution_count": null,
   "metadata": {},
   "outputs": [],
   "source": [
    "g = 9.82\n",
    "m = float(input(\"Ange din vikt i kg: \"))\n",
    "\n",
    "F = m*g\n",
    "print(f\"Din tyngdkraft är {F}N\")\n",
    "print(\"Din tyngdkraft är\",F,\"N\")"
   ]
  },
  {
   "cell_type": "code",
   "execution_count": 2,
   "metadata": {},
   "outputs": [
    {
     "output_type": "stream",
     "name": "stdout",
     "text": [
      "0.7 = 70.0%\n"
     ]
    }
   ],
   "source": [
    "tal = float(input(\"Ange ett decimaltal\")) # behöver typomvandla till float\n",
    "procent = tal*100\n",
    "\n",
    "print(f\"{tal} = {procent}%\")"
   ]
  },
  {
   "cell_type": "code",
   "execution_count": null,
   "metadata": {},
   "outputs": [],
   "source": [
    "Kelvin = float(input(\"Ange Kelvin för att få Celsius\"))\n",
    "\n",
    "Celsius = Kelvin-273.15\n",
    "\n",
    "print(f\"{Kelvin}K i celsium är {Celsius}C\")"
   ]
  },
  {
   "cell_type": "code",
   "execution_count": null,
   "metadata": {},
   "outputs": [],
   "source": [
    "Celsius = float(input(\"Ange Celcuis för att få Kelvin\"))\n",
    "\n",
    "Kelvin = Celsius+273.15\n",
    "\n",
    "print(f\"{Celsius}C i Kelvin är {Kelvin}K\")"
   ]
  },
  {
   "cell_type": "code",
   "execution_count": null,
   "metadata": {},
   "outputs": [],
   "source": [
    "resor = float(input(\"Ange hur många resor du har åkt\"))\n",
    "pris = resor*30\n",
    "\n",
    "print(f\"{resor} kostar {pris}kr\")\n",
    "\n",
    "if pris > 775:\n",
    "    print(\"Det finns mera värde för dig att köpa ett månadskort\")"
   ]
  }
 ]
}