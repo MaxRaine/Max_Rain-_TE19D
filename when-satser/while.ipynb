{
 "metadata": {
  "language_info": {
   "codemirror_mode": {
    "name": "ipython",
    "version": 3
   },
   "file_extension": ".py",
   "mimetype": "text/x-python",
   "name": "python",
   "nbconvert_exporter": "python",
   "pygments_lexer": "ipython3",
   "version": "3.8.3-final"
  },
  "orig_nbformat": 2,
  "kernelspec": {
   "name": "python_defaultSpec_1602063450644",
   "display_name": "Python 3.8.3 64-bit ('base': conda)"
  }
 },
 "nbformat": 4,
 "nbformat_minor": 2,
 "cells": [
  {
   "source": [
    "# While-sats genomgång\n",
    "\n",
    "### ränta på ränta\n",
    "\n",
    "vraje år sätter vi in 1000kr\n",
    "\n",
    "årlig ränta på 2%\n",
    "\n",
    "efter hur många insättningar kommer vi att nå 10000?\n"
   ],
   "cell_type": "markdown",
   "metadata": {}
  },
  {
   "cell_type": "code",
   "execution_count": 4,
   "metadata": {
    "tags": []
   },
   "outputs": [
    {
     "output_type": "stream",
     "name": "stdout",
     "text": "Antal år 9\n"
    }
   ],
   "source": [
    "insättning = 1000\n",
    "förändringsfaktor = 1.02\n",
    "år = 0\n",
    "\n",
    "while insättning < 10000:\n",
    "    insättning = insättning*förändringsfaktor + 1000\n",
    "    år += 1 #år ökar med ett\n",
    "\n",
    "print(f\"Antal år {år}\")"
   ]
  },
  {
   "source": [
    "\n",
    "  1L mjölk inhåller 150000 i rumstemp.\n",
    "  bakterierna ökar med 50% varje timme\n",
    "  mjölken blir sur när bakterierna överstiger 10000000¨\n",
    "  Hur många timmar tar det tills mjölken surnar?\n",
    "\n"
   ],
   "cell_type": "markdown",
   "metadata": {}
  },
  {
   "cell_type": "code",
   "execution_count": 8,
   "metadata": {
    "tags": []
   },
   "outputs": [
    {
     "output_type": "stream",
     "name": "stdout",
     "text": "Antal timmar 5\n"
    }
   ],
   "source": [
    "bakterie = 1.5e6\n",
    "faktor = 1.5\n",
    "timmar = 0\n",
    "\n",
    "while bakterie < 1e7:\n",
    "    bakterie = bakterie*faktor\n",
    "    timmar += 1\n",
    "\n",
    "print(f\"Antal timmar {timmar}\")"
   ]
  },
  {
   "cell_type": "code",
   "execution_count": null,
   "metadata": {},
   "outputs": [],
   "source": []
  }
 ]
}