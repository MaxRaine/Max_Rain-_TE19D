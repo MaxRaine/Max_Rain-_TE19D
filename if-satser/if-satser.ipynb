{
 "metadata": {
  "language_info": {
   "codemirror_mode": {
    "name": "ipython",
    "version": 3
   },
   "file_extension": ".py",
   "mimetype": "text/x-python",
   "name": "python",
   "nbconvert_exporter": "python",
   "pygments_lexer": "ipython3",
   "version": "3.8.3-final"
  },
  "orig_nbformat": 2,
  "kernelspec": {
   "name": "python_defaultSpec_1600331172968",
   "display_name": "Python 3.8.3 64-bit ('max.raine': virtualenv)"
  }
 },
 "nbformat": 4,
 "nbformat_minor": 2,
 "cells": [
  {
   "cell_type": "code",
   "execution_count": 4,
   "metadata": {
    "tags": []
   },
   "outputs": [
    {
     "output_type": "stream",
     "name": "stdout",
     "text": "Talet är inte jämt\n"
    }
   ],
   "source": [
    "tal = int(input(\"Ange ett heltal\"))\n",
    "\n",
    "if tal%2==0:\n",
    "    print(\"Talet är jämt\")\n",
    "else:\n",
    "    print(\"Talet är inte jämt\")"
   ]
  },
  {
   "cell_type": "code",
   "execution_count": 6,
   "metadata": {
    "tags": []
   },
   "outputs": [
    {
     "output_type": "stream",
     "name": "stdout",
     "text": "Rät vinkel\n"
    }
   ],
   "source": [
    "vinkel = float(input(\"ange en vinkel v i grader, där 0<=v<360: \"))\n",
    "\n",
    "if vinkel < 90 and vinkel > 0:\n",
    "    print(\"SPetsig vinkel\")\n",
    "elif vinkel == 90:\n",
    "    print(\"Rät vinkel\")\n",
    "elif vinkel < 180:\n",
    "    print(\"Trubbig vinkel\")\n",
    "else:\n",
    "    print(\"vinkeln är varken trubbig, rät eller spetsig\")"
   ]
  },
  {
   "cell_type": "code",
   "execution_count": 22,
   "metadata": {
    "tags": []
   },
   "outputs": [
    {
     "output_type": "stream",
     "name": "stdout",
     "text": "talet är positivt\n"
    }
   ],
   "source": [
    "tal = float(input(\"ange ett tal\"))\n",
    "\n",
    "if tal > 0:\n",
    "    print(\"talet är positivt\")\n",
    "elif tal == 0:\n",
    "    print(\"talet är positivt\")\n",
    "else :\n",
    "    print(\"talet är negativt\")"
   ]
  },
  {
   "cell_type": "code",
   "execution_count": 34,
   "metadata": {
    "tags": []
   },
   "outputs": [
    {
     "output_type": "stream",
     "name": "stdout",
     "text": "talet är jämnt\ntalet är delbart med 5\n"
    }
   ],
   "source": [
    "tal = int(input(\"ange ett tal\"))\n",
    "\n",
    "if tal%2==0:\n",
    "    print(\"talet är jämnt\")\n",
    "else:\n",
    "    print(\"talet är udda\")\n",
    "\n",
    "if tal%5==0:\n",
    "    print(\"talet är delbart med 5\")"
   ]
  },
  {
   "cell_type": "code",
   "execution_count": 36,
   "metadata": {
    "tags": []
   },
   "outputs": [
    {
     "output_type": "stream",
     "name": "stdout",
     "text": "20.0 är störst\n"
    }
   ],
   "source": [
    "tal1 = float(input(\"ange ett tal\"))\n",
    "tal2 = float(input(\"ange ett till tal\"))\n",
    "\n",
    "if tal1>tal2:\n",
    "    print(f\"{tal1} är störst\")\n",
    "else:\n",
    "    print(f\"{tal2} är störst\")"
   ]
  },
  {
   "cell_type": "code",
   "execution_count": 11,
   "metadata": {
    "tags": []
   },
   "outputs": [
    {
     "output_type": "stream",
     "name": "stdout",
     "text": "Vinkel är hel\n"
    }
   ],
   "source": [
    "vinkel = float(input(\"Ange en vinkel\"))\n",
    "\n",
    "if vinkel < 90:\n",
    "    print(\"Vinkeln är spetsig\")\n",
    "elif vinkel > 90 and vinkel < 180:\n",
    "    print(\"Vinkeln är trubbig\")\n",
    "elif vinkel == 180:\n",
    "    print(\"Vinkeln är rak\")\n",
    "elif vinkel == 90:\n",
    "    print(\"Vinkeln är rät\")\n",
    "elif vinkel > 180 and vinkel < 360:\n",
    "    print(\"Vinkeln är konvex\")\n",
    "elif vinkel == 360:\n",
    "    print(\"Vinkel är hel\")\n"
   ]
  },
  {
   "cell_type": "code",
   "execution_count": null,
   "metadata": {},
   "outputs": [],
   "source": []
  }
 ]
}